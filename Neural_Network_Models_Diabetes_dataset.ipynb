{
  "cells": [
    {
      "cell_type": "markdown",
      "id": "84167855",
      "metadata": {
        "id": "84167855"
      },
      "source": [
        "# CS 5588 Big Data Analytics and Application\n",
        "## Hands-On Session: Neural Network Models with PyTorch"
      ]
    },
    {
      "cell_type": "code",
      "execution_count": 1,
      "id": "8cc632bf",
      "metadata": {
        "colab": {
          "base_uri": "https://localhost:8080/"
        },
        "id": "8cc632bf",
        "outputId": "aeb396b9-47dd-48d9-e647-c703eaeebcc4"
      },
      "outputs": [
        {
          "output_type": "stream",
          "name": "stdout",
          "text": [
            "Requirement already satisfied: torch in /usr/local/lib/python3.11/dist-packages (2.5.1+cu124)\n",
            "Requirement already satisfied: torchvision in /usr/local/lib/python3.11/dist-packages (0.20.1+cu124)\n",
            "Requirement already satisfied: scikit-learn in /usr/local/lib/python3.11/dist-packages (1.6.1)\n",
            "Requirement already satisfied: matplotlib in /usr/local/lib/python3.11/dist-packages (3.10.0)\n",
            "Requirement already satisfied: filelock in /usr/local/lib/python3.11/dist-packages (from torch) (3.17.0)\n",
            "Requirement already satisfied: typing-extensions>=4.8.0 in /usr/local/lib/python3.11/dist-packages (from torch) (4.12.2)\n",
            "Requirement already satisfied: networkx in /usr/local/lib/python3.11/dist-packages (from torch) (3.4.2)\n",
            "Requirement already satisfied: jinja2 in /usr/local/lib/python3.11/dist-packages (from torch) (3.1.5)\n",
            "Requirement already satisfied: fsspec in /usr/local/lib/python3.11/dist-packages (from torch) (2024.10.0)\n",
            "Collecting nvidia-cuda-nvrtc-cu12==12.4.127 (from torch)\n",
            "  Downloading nvidia_cuda_nvrtc_cu12-12.4.127-py3-none-manylinux2014_x86_64.whl.metadata (1.5 kB)\n",
            "Collecting nvidia-cuda-runtime-cu12==12.4.127 (from torch)\n",
            "  Downloading nvidia_cuda_runtime_cu12-12.4.127-py3-none-manylinux2014_x86_64.whl.metadata (1.5 kB)\n",
            "Collecting nvidia-cuda-cupti-cu12==12.4.127 (from torch)\n",
            "  Downloading nvidia_cuda_cupti_cu12-12.4.127-py3-none-manylinux2014_x86_64.whl.metadata (1.6 kB)\n",
            "Collecting nvidia-cudnn-cu12==9.1.0.70 (from torch)\n",
            "  Downloading nvidia_cudnn_cu12-9.1.0.70-py3-none-manylinux2014_x86_64.whl.metadata (1.6 kB)\n",
            "Collecting nvidia-cublas-cu12==12.4.5.8 (from torch)\n",
            "  Downloading nvidia_cublas_cu12-12.4.5.8-py3-none-manylinux2014_x86_64.whl.metadata (1.5 kB)\n",
            "Collecting nvidia-cufft-cu12==11.2.1.3 (from torch)\n",
            "  Downloading nvidia_cufft_cu12-11.2.1.3-py3-none-manylinux2014_x86_64.whl.metadata (1.5 kB)\n",
            "Collecting nvidia-curand-cu12==10.3.5.147 (from torch)\n",
            "  Downloading nvidia_curand_cu12-10.3.5.147-py3-none-manylinux2014_x86_64.whl.metadata (1.5 kB)\n",
            "Collecting nvidia-cusolver-cu12==11.6.1.9 (from torch)\n",
            "  Downloading nvidia_cusolver_cu12-11.6.1.9-py3-none-manylinux2014_x86_64.whl.metadata (1.6 kB)\n",
            "Collecting nvidia-cusparse-cu12==12.3.1.170 (from torch)\n",
            "  Downloading nvidia_cusparse_cu12-12.3.1.170-py3-none-manylinux2014_x86_64.whl.metadata (1.6 kB)\n",
            "Requirement already satisfied: nvidia-nccl-cu12==2.21.5 in /usr/local/lib/python3.11/dist-packages (from torch) (2.21.5)\n",
            "Requirement already satisfied: nvidia-nvtx-cu12==12.4.127 in /usr/local/lib/python3.11/dist-packages (from torch) (12.4.127)\n",
            "Collecting nvidia-nvjitlink-cu12==12.4.127 (from torch)\n",
            "  Downloading nvidia_nvjitlink_cu12-12.4.127-py3-none-manylinux2014_x86_64.whl.metadata (1.5 kB)\n",
            "Requirement already satisfied: triton==3.1.0 in /usr/local/lib/python3.11/dist-packages (from torch) (3.1.0)\n",
            "Requirement already satisfied: sympy==1.13.1 in /usr/local/lib/python3.11/dist-packages (from torch) (1.13.1)\n",
            "Requirement already satisfied: mpmath<1.4,>=1.1.0 in /usr/local/lib/python3.11/dist-packages (from sympy==1.13.1->torch) (1.3.0)\n",
            "Requirement already satisfied: numpy in /usr/local/lib/python3.11/dist-packages (from torchvision) (1.26.4)\n",
            "Requirement already satisfied: pillow!=8.3.*,>=5.3.0 in /usr/local/lib/python3.11/dist-packages (from torchvision) (11.1.0)\n",
            "Requirement already satisfied: scipy>=1.6.0 in /usr/local/lib/python3.11/dist-packages (from scikit-learn) (1.13.1)\n",
            "Requirement already satisfied: joblib>=1.2.0 in /usr/local/lib/python3.11/dist-packages (from scikit-learn) (1.4.2)\n",
            "Requirement already satisfied: threadpoolctl>=3.1.0 in /usr/local/lib/python3.11/dist-packages (from scikit-learn) (3.5.0)\n",
            "Requirement already satisfied: contourpy>=1.0.1 in /usr/local/lib/python3.11/dist-packages (from matplotlib) (1.3.1)\n",
            "Requirement already satisfied: cycler>=0.10 in /usr/local/lib/python3.11/dist-packages (from matplotlib) (0.12.1)\n",
            "Requirement already satisfied: fonttools>=4.22.0 in /usr/local/lib/python3.11/dist-packages (from matplotlib) (4.55.7)\n",
            "Requirement already satisfied: kiwisolver>=1.3.1 in /usr/local/lib/python3.11/dist-packages (from matplotlib) (1.4.8)\n",
            "Requirement already satisfied: packaging>=20.0 in /usr/local/lib/python3.11/dist-packages (from matplotlib) (24.2)\n",
            "Requirement already satisfied: pyparsing>=2.3.1 in /usr/local/lib/python3.11/dist-packages (from matplotlib) (3.2.1)\n",
            "Requirement already satisfied: python-dateutil>=2.7 in /usr/local/lib/python3.11/dist-packages (from matplotlib) (2.8.2)\n",
            "Requirement already satisfied: six>=1.5 in /usr/local/lib/python3.11/dist-packages (from python-dateutil>=2.7->matplotlib) (1.17.0)\n",
            "Requirement already satisfied: MarkupSafe>=2.0 in /usr/local/lib/python3.11/dist-packages (from jinja2->torch) (3.0.2)\n",
            "Downloading nvidia_cublas_cu12-12.4.5.8-py3-none-manylinux2014_x86_64.whl (363.4 MB)\n",
            "\u001b[2K   \u001b[90m━━━━━━━━━━━━━━━━━━━━━━━━━━━━━━━━━━━━━━━━\u001b[0m \u001b[32m363.4/363.4 MB\u001b[0m \u001b[31m3.1 MB/s\u001b[0m eta \u001b[36m0:00:00\u001b[0m\n",
            "\u001b[?25hDownloading nvidia_cuda_cupti_cu12-12.4.127-py3-none-manylinux2014_x86_64.whl (13.8 MB)\n",
            "\u001b[2K   \u001b[90m━━━━━━━━━━━━━━━━━━━━━━━━━━━━━━━━━━━━━━━━\u001b[0m \u001b[32m13.8/13.8 MB\u001b[0m \u001b[31m56.4 MB/s\u001b[0m eta \u001b[36m0:00:00\u001b[0m\n",
            "\u001b[?25hDownloading nvidia_cuda_nvrtc_cu12-12.4.127-py3-none-manylinux2014_x86_64.whl (24.6 MB)\n",
            "\u001b[2K   \u001b[90m━━━━━━━━━━━━━━━━━━━━━━━━━━━━━━━━━━━━━━━━\u001b[0m \u001b[32m24.6/24.6 MB\u001b[0m \u001b[31m38.9 MB/s\u001b[0m eta \u001b[36m0:00:00\u001b[0m\n",
            "\u001b[?25hDownloading nvidia_cuda_runtime_cu12-12.4.127-py3-none-manylinux2014_x86_64.whl (883 kB)\n",
            "\u001b[2K   \u001b[90m━━━━━━━━━━━━━━━━━━━━━━━━━━━━━━━━━━━━━━━━\u001b[0m \u001b[32m883.7/883.7 kB\u001b[0m \u001b[31m15.5 MB/s\u001b[0m eta \u001b[36m0:00:00\u001b[0m\n",
            "\u001b[?25hDownloading nvidia_cudnn_cu12-9.1.0.70-py3-none-manylinux2014_x86_64.whl (664.8 MB)\n",
            "\u001b[2K   \u001b[90m━━━━━━━━━━━━━━━━━━━━━━━━━━━━━━━━━━━━━━━━\u001b[0m \u001b[32m664.8/664.8 MB\u001b[0m \u001b[31m2.3 MB/s\u001b[0m eta \u001b[36m0:00:00\u001b[0m\n",
            "\u001b[?25hDownloading nvidia_cufft_cu12-11.2.1.3-py3-none-manylinux2014_x86_64.whl (211.5 MB)\n",
            "\u001b[2K   \u001b[90m━━━━━━━━━━━━━━━━━━━━━━━━━━━━━━━━━━━━━━━━\u001b[0m \u001b[32m211.5/211.5 MB\u001b[0m \u001b[31m5.1 MB/s\u001b[0m eta \u001b[36m0:00:00\u001b[0m\n",
            "\u001b[?25hDownloading nvidia_curand_cu12-10.3.5.147-py3-none-manylinux2014_x86_64.whl (56.3 MB)\n",
            "\u001b[2K   \u001b[90m━━━━━━━━━━━━━━━━━━━━━━━━━━━━━━━━━━━━━━━━\u001b[0m \u001b[32m56.3/56.3 MB\u001b[0m \u001b[31m11.6 MB/s\u001b[0m eta \u001b[36m0:00:00\u001b[0m\n",
            "\u001b[?25hDownloading nvidia_cusolver_cu12-11.6.1.9-py3-none-manylinux2014_x86_64.whl (127.9 MB)\n",
            "\u001b[2K   \u001b[90m━━━━━━━━━━━━━━━━━━━━━━━━━━━━━━━━━━━━━━━━\u001b[0m \u001b[32m127.9/127.9 MB\u001b[0m \u001b[31m7.7 MB/s\u001b[0m eta \u001b[36m0:00:00\u001b[0m\n",
            "\u001b[?25hDownloading nvidia_cusparse_cu12-12.3.1.170-py3-none-manylinux2014_x86_64.whl (207.5 MB)\n",
            "\u001b[2K   \u001b[90m━━━━━━━━━━━━━━━━━━━━━━━━━━━━━━━━━━━━━━━━\u001b[0m \u001b[32m207.5/207.5 MB\u001b[0m \u001b[31m5.5 MB/s\u001b[0m eta \u001b[36m0:00:00\u001b[0m\n",
            "\u001b[?25hDownloading nvidia_nvjitlink_cu12-12.4.127-py3-none-manylinux2014_x86_64.whl (21.1 MB)\n",
            "\u001b[2K   \u001b[90m━━━━━━━━━━━━━━━━━━━━━━━━━━━━━━━━━━━━━━━━\u001b[0m \u001b[32m21.1/21.1 MB\u001b[0m \u001b[31m71.3 MB/s\u001b[0m eta \u001b[36m0:00:00\u001b[0m\n",
            "\u001b[?25hInstalling collected packages: nvidia-nvjitlink-cu12, nvidia-curand-cu12, nvidia-cufft-cu12, nvidia-cuda-runtime-cu12, nvidia-cuda-nvrtc-cu12, nvidia-cuda-cupti-cu12, nvidia-cublas-cu12, nvidia-cusparse-cu12, nvidia-cudnn-cu12, nvidia-cusolver-cu12\n",
            "  Attempting uninstall: nvidia-nvjitlink-cu12\n",
            "    Found existing installation: nvidia-nvjitlink-cu12 12.5.82\n",
            "    Uninstalling nvidia-nvjitlink-cu12-12.5.82:\n",
            "      Successfully uninstalled nvidia-nvjitlink-cu12-12.5.82\n",
            "  Attempting uninstall: nvidia-curand-cu12\n",
            "    Found existing installation: nvidia-curand-cu12 10.3.6.82\n",
            "    Uninstalling nvidia-curand-cu12-10.3.6.82:\n",
            "      Successfully uninstalled nvidia-curand-cu12-10.3.6.82\n",
            "  Attempting uninstall: nvidia-cufft-cu12\n",
            "    Found existing installation: nvidia-cufft-cu12 11.2.3.61\n",
            "    Uninstalling nvidia-cufft-cu12-11.2.3.61:\n",
            "      Successfully uninstalled nvidia-cufft-cu12-11.2.3.61\n",
            "  Attempting uninstall: nvidia-cuda-runtime-cu12\n",
            "    Found existing installation: nvidia-cuda-runtime-cu12 12.5.82\n",
            "    Uninstalling nvidia-cuda-runtime-cu12-12.5.82:\n",
            "      Successfully uninstalled nvidia-cuda-runtime-cu12-12.5.82\n",
            "  Attempting uninstall: nvidia-cuda-nvrtc-cu12\n",
            "    Found existing installation: nvidia-cuda-nvrtc-cu12 12.5.82\n",
            "    Uninstalling nvidia-cuda-nvrtc-cu12-12.5.82:\n",
            "      Successfully uninstalled nvidia-cuda-nvrtc-cu12-12.5.82\n",
            "  Attempting uninstall: nvidia-cuda-cupti-cu12\n",
            "    Found existing installation: nvidia-cuda-cupti-cu12 12.5.82\n",
            "    Uninstalling nvidia-cuda-cupti-cu12-12.5.82:\n",
            "      Successfully uninstalled nvidia-cuda-cupti-cu12-12.5.82\n",
            "  Attempting uninstall: nvidia-cublas-cu12\n",
            "    Found existing installation: nvidia-cublas-cu12 12.5.3.2\n",
            "    Uninstalling nvidia-cublas-cu12-12.5.3.2:\n",
            "      Successfully uninstalled nvidia-cublas-cu12-12.5.3.2\n",
            "  Attempting uninstall: nvidia-cusparse-cu12\n",
            "    Found existing installation: nvidia-cusparse-cu12 12.5.1.3\n",
            "    Uninstalling nvidia-cusparse-cu12-12.5.1.3:\n",
            "      Successfully uninstalled nvidia-cusparse-cu12-12.5.1.3\n",
            "  Attempting uninstall: nvidia-cudnn-cu12\n",
            "    Found existing installation: nvidia-cudnn-cu12 9.3.0.75\n",
            "    Uninstalling nvidia-cudnn-cu12-9.3.0.75:\n",
            "      Successfully uninstalled nvidia-cudnn-cu12-9.3.0.75\n",
            "  Attempting uninstall: nvidia-cusolver-cu12\n",
            "    Found existing installation: nvidia-cusolver-cu12 11.6.3.83\n",
            "    Uninstalling nvidia-cusolver-cu12-11.6.3.83:\n",
            "      Successfully uninstalled nvidia-cusolver-cu12-11.6.3.83\n",
            "Successfully installed nvidia-cublas-cu12-12.4.5.8 nvidia-cuda-cupti-cu12-12.4.127 nvidia-cuda-nvrtc-cu12-12.4.127 nvidia-cuda-runtime-cu12-12.4.127 nvidia-cudnn-cu12-9.1.0.70 nvidia-cufft-cu12-11.2.1.3 nvidia-curand-cu12-10.3.5.147 nvidia-cusolver-cu12-11.6.1.9 nvidia-cusparse-cu12-12.3.1.170 nvidia-nvjitlink-cu12-12.4.127\n"
          ]
        }
      ],
      "source": [
        "# Cell 1: Install required libraries (if not already installed)\n",
        "!pip install torch torchvision scikit-learn matplotlib"
      ]
    },
    {
      "cell_type": "code",
      "execution_count": 2,
      "id": "f7786048",
      "metadata": {
        "id": "f7786048"
      },
      "outputs": [],
      "source": [
        "# Cell 2: Import necessary libraries\n",
        "import torch\n",
        "import torch.nn as nn\n",
        "import torch.optim as optim\n",
        "import numpy as np\n",
        "import matplotlib.pyplot as plt\n",
        "from sklearn.datasets import load_diabetes\n",
        "from sklearn.model_selection import train_test_split\n",
        "from sklearn.preprocessing import StandardScaler\n",
        "from sklearn.metrics import mean_squared_error, r2_score, accuracy_score, confusion_matrix, ConfusionMatrixDisplay"
      ]
    },
    {
      "cell_type": "code",
      "execution_count": 3,
      "id": "bafc8333",
      "metadata": {
        "colab": {
          "base_uri": "https://localhost:8080/"
        },
        "id": "bafc8333",
        "outputId": "2705e0cc-66d7-4e23-90ac-fa01654ee9bc"
      },
      "outputs": [
        {
          "output_type": "stream",
          "name": "stdout",
          "text": [
            "Using device: cuda\n"
          ]
        }
      ],
      "source": [
        "# Cell 3: Set device for GPU acceleration\n",
        "device = torch.device(\"cuda\" if torch.cuda.is_available() else \"cpu\")\n",
        "print(f\"Using device: {device}\")"
      ]
    },
    {
      "cell_type": "code",
      "execution_count": 4,
      "id": "dca7695f",
      "metadata": {
        "colab": {
          "base_uri": "https://localhost:8080/"
        },
        "id": "dca7695f",
        "outputId": "3a44babe-9fc2-4bea-a762-9c3d1b6f90ab"
      },
      "outputs": [
        {
          "output_type": "stream",
          "name": "stdout",
          "text": [
            "Initial data shape: (442, 10) (442,)\n",
            "Threshold for classification: 152.13348416289594\n",
            "Binary target values (first 10): [0 0 0 1 0 0 0 0 0 1]\n",
            "Train/Test split shapes: (353, 10) (89, 10)\n",
            "Sample standardized features (first 5 rows): [[ 1.49836523  1.06136988  0.21990201  1.13887373  0.72847289  1.05589332\n",
            "  -0.82445065  0.71103773  0.54748197 -0.06144896]\n",
            " [-0.22885822  1.06136988 -0.41936607 -0.71059105 -0.4249289   0.27242452\n",
            "  -1.52979055  1.4842858  -0.01975653  0.36723647]\n",
            " [ 0.08518241 -0.94217861  1.01898711  1.99247286 -0.30958872 -0.32669867\n",
            "  -0.11911075 -0.06221033  0.3312366  -0.31866022]\n",
            " [-0.621409   -0.94217861 -0.78466212 -0.63945779 -1.17464007 -1.21550781\n",
            "   0.66460025 -0.83545839 -1.06968217 -2.71929861]\n",
            " [-0.54289885 -0.94217861 -1.4239302  -1.7064567  -0.79978448 -1.11016747\n",
            "   1.29156905 -1.60870645 -0.80285867 -0.91881982]]\n"
          ]
        }
      ],
      "source": [
        "# Cell 4: Dataset Preparation\n",
        "## 4.1 Load and preprocess the Diabetes Dataset\n",
        "diabetes = load_diabetes()\n",
        "X_diabetes = diabetes.data\n",
        "y_diabetes = diabetes.target\n",
        "print(\"Initial data shape:\", X_diabetes.shape, y_diabetes.shape)\n",
        "\n",
        "# Convert the target to binary for classification\n",
        "threshold = y_diabetes.mean()\n",
        "y_diabetes_binary = (y_diabetes > threshold).astype(int)\n",
        "print(\"Threshold for classification:\", threshold)\n",
        "print(\"Binary target values (first 10):\", y_diabetes_binary[:10])\n",
        "\n",
        "# Train-test split for regression and classification\n",
        "data_split = train_test_split(\n",
        "    X_diabetes, y_diabetes, y_diabetes_binary, test_size=0.2, random_state=42\n",
        ")\n",
        "X_train_d, X_test_d, y_train_d, y_test_d, y_train_d_binary, y_test_d_binary = data_split\n",
        "print(\"Train/Test split shapes:\", X_train_d.shape, X_test_d.shape)\n",
        "\n",
        "# Standardize features\n",
        "scaler_d = StandardScaler()\n",
        "X_train_d = scaler_d.fit_transform(X_train_d)\n",
        "X_test_d = scaler_d.transform(X_test_d)\n",
        "print(\"Sample standardized features (first 5 rows):\", X_train_d[:5])\n",
        "\n",
        "# Convert to PyTorch tensors\n",
        "X_train_d_tensor = torch.tensor(X_train_d, dtype=torch.float32).to(device)\n",
        "X_test_d_tensor = torch.tensor(X_test_d, dtype=torch.float32).to(device)\n",
        "y_train_d_tensor = torch.tensor(y_train_d, dtype=torch.float32).view(-1, 1).to(device)\n",
        "y_test_d_tensor = torch.tensor(y_test_d, dtype=torch.float32).view(-1, 1).to(device)\n",
        "y_train_d_binary_tensor = torch.tensor(y_train_d_binary, dtype=torch.float32).view(-1, 1).to(device)\n",
        "y_test_d_binary_tensor = torch.tensor(y_test_d_binary, dtype=torch.float32).view(-1, 1).to(device)"
      ]
    },
    {
      "cell_type": "code",
      "execution_count": 5,
      "id": "c26c5937",
      "metadata": {
        "colab": {
          "base_uri": "https://localhost:8080/"
        },
        "id": "c26c5937",
        "outputId": "e1010692-7392-4a15-d0d8-e177440b8de1"
      },
      "outputs": [
        {
          "output_type": "stream",
          "name": "stdout",
          "text": [
            "Models initialized.\n"
          ]
        }
      ],
      "source": [
        "# Cell 5: Define the Feedforward Neural Network for Regression and Classification\n",
        "class FeedforwardNN(nn.Module):\n",
        "    def __init__(self, input_dim, output_dim):\n",
        "        super(FeedforwardNN, self).__init__()\n",
        "        self.hidden1 = nn.Linear(input_dim, 64)\n",
        "        self.hidden2 = nn.Linear(64, 32)\n",
        "        self.output = nn.Linear(32, output_dim)\n",
        "        self.relu = nn.ReLU()\n",
        "        self.sigmoid = nn.Sigmoid()\n",
        "\n",
        "    def forward(self, x, classification=False):\n",
        "        x = self.relu(self.hidden1(x))\n",
        "        x = self.relu(self.hidden2(x))\n",
        "        x = self.output(x)\n",
        "        if classification:\n",
        "            x = self.sigmoid(x)\n",
        "        return x\n",
        "\n",
        "# Initialize models\n",
        "model_regression = FeedforwardNN(X_train_d.shape[1], 1).to(device)\n",
        "model_classification = FeedforwardNN(X_train_d.shape[1], 1).to(device)\n",
        "print(\"Models initialized.\")"
      ]
    },
    {
      "cell_type": "code",
      "execution_count": 6,
      "id": "6e2884ee",
      "metadata": {
        "colab": {
          "base_uri": "https://localhost:8080/"
        },
        "id": "6e2884ee",
        "outputId": "9587698e-6441-41e9-aba4-84d37765076c"
      },
      "outputs": [
        {
          "output_type": "stream",
          "name": "stdout",
          "text": [
            "Loss functions and optimizers defined.\n"
          ]
        }
      ],
      "source": [
        "# Cell 6: Define Loss Functions and Optimizers\n",
        "criterion_regression = nn.MSELoss()\n",
        "criterion_classification = nn.BCELoss()\n",
        "optimizer_regression = optim.Adam(model_regression.parameters(), lr=0.01)\n",
        "optimizer_classification = optim.Adam(model_classification.parameters(), lr=0.01)\n",
        "print(\"Loss functions and optimizers defined.\")"
      ]
    },
    {
      "cell_type": "code",
      "execution_count": 7,
      "id": "d010791d",
      "metadata": {
        "colab": {
          "base_uri": "https://localhost:8080/"
        },
        "id": "d010791d",
        "outputId": "470b4d1a-6e68-4532-abb6-b17e507e6593"
      },
      "outputs": [
        {
          "output_type": "stream",
          "name": "stdout",
          "text": [
            "Training Regression Model\n",
            "Epoch 10/100, Loss: 27753.2832\n",
            "Epoch 20/100, Loss: 19525.9648\n",
            "Epoch 30/100, Loss: 6467.5044\n",
            "Epoch 40/100, Loss: 5815.0273\n",
            "Epoch 50/100, Loss: 3866.9939\n",
            "Epoch 60/100, Loss: 3404.3486\n",
            "Epoch 70/100, Loss: 3163.5244\n",
            "Epoch 80/100, Loss: 2980.6282\n",
            "Epoch 90/100, Loss: 2866.2437\n",
            "Epoch 100/100, Loss: 2784.4143\n",
            "Training Classification Model\n",
            "Epoch 10/100, Loss: 0.4822\n",
            "Epoch 20/100, Loss: 0.4419\n",
            "Epoch 30/100, Loss: 0.4088\n",
            "Epoch 40/100, Loss: 0.3650\n",
            "Epoch 50/100, Loss: 0.3040\n",
            "Epoch 60/100, Loss: 0.2248\n",
            "Epoch 70/100, Loss: 0.1518\n",
            "Epoch 80/100, Loss: 0.0911\n",
            "Epoch 90/100, Loss: 0.0523\n",
            "Epoch 100/100, Loss: 0.0287\n"
          ]
        }
      ],
      "source": [
        "# Cell 7: Train the Models\n",
        "def train_model(model, optimizer, X_train, y_train, criterion, epochs=100, classification=False):\n",
        "    for epoch in range(epochs):\n",
        "        model.train()\n",
        "        inputs = X_train\n",
        "        targets = y_train\n",
        "\n",
        "        # Forward pass\n",
        "        predictions = model(inputs, classification=classification)\n",
        "        loss = criterion(predictions, targets)\n",
        "\n",
        "        # Backward pass\n",
        "        optimizer.zero_grad()\n",
        "        loss.backward()\n",
        "        optimizer.step()\n",
        "\n",
        "        if (epoch + 1) % 10 == 0:\n",
        "            print(f\"Epoch {epoch + 1}/{epochs}, Loss: {loss.item():.4f}\")\n",
        "\n",
        "# Train the Regression model\n",
        "print(\"Training Regression Model\")\n",
        "train_model(model_regression, optimizer_regression, X_train_d_tensor, y_train_d_tensor, criterion_regression)\n",
        "\n",
        "# Train the Classification model\n",
        "print(\"Training Classification Model\")\n",
        "train_model(model_classification, optimizer_classification, X_train_d_tensor, y_train_d_binary_tensor, criterion_classification, classification=True)"
      ]
    },
    {
      "cell_type": "code",
      "execution_count": 8,
      "id": "547def62",
      "metadata": {
        "colab": {
          "base_uri": "https://localhost:8080/",
          "height": 545
        },
        "id": "547def62",
        "outputId": "c7c4471a-5417-4823-b290-de238a1879c3"
      },
      "outputs": [
        {
          "output_type": "stream",
          "name": "stdout",
          "text": [
            "Regression predictions (first 5): [166.64064 189.93922 139.15996 324.0553   83.1379 ]\n",
            "Regression Model - MSE: 2968.3540, R-squared: 0.4397\n",
            "Classification predictions (first 5): [False False  True  True False]\n",
            "Classification Model - Accuracy: 0.7528\n"
          ]
        },
        {
          "output_type": "display_data",
          "data": {
            "text/plain": [
              "<Figure size 640x480 with 2 Axes>"
            ],
            "image/png": "[encoded data removed]"
          },
          "metadata": {}
        }
      ],
      "source": [
        "# Cell 8: Evaluate the Models\n",
        "def evaluate_model_regression(model, X_test, y_test):\n",
        "    model.eval()\n",
        "    with torch.no_grad():\n",
        "        predictions = model(X_test).cpu().numpy()\n",
        "        mse = mean_squared_error(y_test.cpu().numpy(), predictions)\n",
        "        r2 = r2_score(y_test.cpu().numpy(), predictions)\n",
        "        print(\"Regression predictions (first 5):\", predictions[:5].flatten())\n",
        "    return mse, r2\n",
        "\n",
        "def evaluate_model_classification(model, X_test, y_test):\n",
        "    model.eval()\n",
        "    with torch.no_grad():\n",
        "        predictions = model(X_test, classification=True).cpu().numpy() > 0.5\n",
        "        accuracy = accuracy_score(y_test.cpu().numpy(), predictions)\n",
        "        cm = confusion_matrix(y_test.cpu().numpy(), predictions)\n",
        "        print(\"Classification predictions (first 5):\", predictions[:5].flatten())\n",
        "    return accuracy, cm\n",
        "\n",
        "# Evaluate the Regression model\n",
        "mse_d, r2_d = evaluate_model_regression(model_regression, X_test_d_tensor, y_test_d_tensor)\n",
        "print(f\"Regression Model - MSE: {mse_d:.4f}, R-squared: {r2_d:.4f}\")\n",
        "\n",
        "# Evaluate the Classification model\n",
        "accuracy_d, cm_d = evaluate_model_classification(model_classification, X_test_d_tensor, y_test_d_binary_tensor)\n",
        "print(f\"Classification Model - Accuracy: {accuracy_d:.4f}\")\n",
        "\n",
        "# Display the confusion matrix\n",
        "ConfusionMatrixDisplay(confusion_matrix=cm_d, display_labels=[\"Below Mean\", \"Above Mean\"]).plot()\n",
        "plt.title(\"Confusion Matrix for Classification Model\")\n",
        "plt.show()"
      ]
    },
    {
      "cell_type": "code",
      "execution_count": 9,
      "id": "f55cbeb3",
      "metadata": {
        "colab": {
          "base_uri": "https://localhost:8080/",
          "height": 472
        },
        "id": "f55cbeb3",
        "outputId": "4d1b14f2-f375-4621-b657-f3a6ec7aabb6"
      },
      "outputs": [
        {
          "output_type": "display_data",
          "data": {
            "text/plain": [
              "<Figure size 640x480 with 1 Axes>"
            ],
            "image/png": "[encoded data removed]"
          },
          "metadata": {}
        }
      ],
      "source": [
        "# Cell 9: Visualize the Results\n",
        "def plot_results_regression(y_test, predictions, title):\n",
        "    plt.scatter(y_test, predictions, alpha=0.5)\n",
        "    plt.plot([y_test.min(), y_test.max()], [y_test.min(), y_test.max()], color='red', linestyle='--')\n",
        "    plt.title(title)\n",
        "    plt.xlabel(\"True Values\")\n",
        "    plt.ylabel(\"Predicted Values\")\n",
        "    plt.show()\n",
        "\n",
        "# Visualize results for the Regression model\n",
        "with torch.no_grad():\n",
        "    predictions_d = model_regression(X_test_d_tensor).cpu().numpy()\n",
        "    plot_results_regression(y_test_d_tensor.cpu().numpy(), predictions_d, \"Regression Model: Diabetes Dataset\")"
      ]
    },
    {
      "cell_type": "code",
      "execution_count": 10,
      "id": "198ede06",
      "metadata": {
        "id": "198ede06"
      },
      "outputs": [],
      "source": [
        "# Cell 10: Student Activity\n",
        "# Task: Implement the same workflow for the California Housing Dataset\n",
        "# Instructions:\n",
        "# 1. Load and preprocess the California Housing Dataset (use sklearn's fetch_california_housing).\n",
        "# 2. Define feedforward neural networks for regression and binary classification (define the threshold for classification).\n",
        "# 3. Train both models using the same train_model function.\n",
        "# 4. Evaluate both models using the respective evaluation functions.\n",
        "# 5. Visualize the predictions for regression and display the confusion matrix for classification.\n",
        "# 6. Ensure you use the same preprocessing steps and training process."
      ]
    }
  ],
  "metadata": {
    "colab": {
      "provenance": [],
      "gpuType": "T4"
    },
    "accelerator": "GPU",
    "language_info": {
      "name": "python"
    },
    "kernelspec": {
      "name": "python3",
      "display_name": "Python 3"
    }
  },
  "nbformat": 4,
  "nbformat_minor": 5
}